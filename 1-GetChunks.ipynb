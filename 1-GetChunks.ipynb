{
 "cells": [
  {
   "cell_type": "code",
   "execution_count": null,
   "id": "99c9764e",
   "metadata": {},
   "outputs": [],
   "source": [
    "# -------------------------------------------------------------------------------------------------------- #\n",
    "# Intro de siempre\n",
    "\n",
    "PATHFunciones = \"/home/LBitn/Dropbox/git-repos/Spinal-Cord-HDMEA\";\n",
    "PATHBRWs = \"/run/media/LBitn/Data/Medula/28-02-2022/BRWs\";\n",
    "\n",
    "push!( LOAD_PATH, PATHFunciones );\n",
    "using JuliaTools\n",
    "\n",
    "# -------------------------------------------------------------------------------------------------------- #"
   ]
  },
  {
   "cell_type": "markdown",
   "id": "94ee2d2b",
   "metadata": {},
   "source": [
    "## Step 1: Cut chunks or segments from a BRW file"
   ]
  },
  {
   "cell_type": "code",
   "execution_count": null,
   "id": "6a40ddde",
   "metadata": {},
   "outputs": [],
   "source": [
    "# Nota: corregir el PATHFunciones porque el SavePaths no jala\n",
    "# -------------------------------------------------------------------------------------------------------- #\n",
    "\n",
    "using JLD\n",
    "\n",
    "FILESBRW = searchdir( PATHBRWs, \"brw\" );\n",
    "\n",
    "@time for i = 2:length( FILESBRW );\n",
    "\n",
    "    FILEBRW = FILESBRW[ i ];\n",
    "    Variables, FILEPATHS = VariablesBRW( FILEBRW );\n",
    "    \n",
    "    PATHS = load( FILEPATHS )[ \"PATHS\" ];\n",
    "    PATHMain = PATHS[ \"PATHMain\" ];\n",
    "    PATHInfo = PATHS[ \"PATHInfo\" ];\n",
    "    \n",
    "    PATHSegmentos = joinpath( PATHMain, \"Segmentos\" );\n",
    "    \n",
    "    Get_chunks( Variables, PATHSegmentos );\n",
    "    \n",
    "    #SavePaths( FILEPATHS );\n",
    "    println( basename( FILEBRW ), \" is done.\" );\n",
    "    \n",
    "end\n",
    "# -------------------------------------------------------------------------------------------------------- #"
   ]
  },
  {
   "cell_type": "code",
   "execution_count": null,
   "id": "49d51b8f",
   "metadata": {},
   "outputs": [],
   "source": []
  }
 ],
 "metadata": {
  "kernelspec": {
   "display_name": "Julia 1.7.2",
   "language": "julia",
   "name": "julia-1.7"
  },
  "language_info": {
   "file_extension": ".jl",
   "mimetype": "application/julia",
   "name": "julia",
   "version": "1.7.2"
  }
 },
 "nbformat": 4,
 "nbformat_minor": 5
}
