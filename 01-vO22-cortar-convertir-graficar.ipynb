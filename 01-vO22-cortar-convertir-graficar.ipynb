{
 "cells": [
  {
   "cell_type": "code",
   "execution_count": 2,
   "id": "7d4d2d73",
   "metadata": {},
   "outputs": [
    {
     "name": "stdout",
     "output_type": "stream",
     "text": [
      "You are now working on the new main path: /run/media/LBitn/Data/Hipocampo/Espontanea/01-06-2022/BRWs/Phase_10\n",
      "With the file: \n",
      "Phase_10.brw : BRW-File Level3 - 3Brain RaW data file for high resolution MEA platform, HDF5-format - Created with BrainWave v.4.5.8180.23837 on date Wednesday, June 1, 2022 HDF5 file size: 25.7256636640625 GB\n",
      "65 segments of 0.3957794409855769 GB each one\n"
     ]
    },
    {
     "name": "stderr",
     "output_type": "stream",
     "text": [
      "┌ Info: Precompiling CSDATools [top-level]\n",
      "└ @ Base loading.jl:1423\n"
     ]
    }
   ],
   "source": [
    "# ~ ~~ ~ ~~ ~ ~~ ~ ~~ ~ ~~ ~ ~~ ~ ~~ ~ ~~ ~ ~~ ~ ~~ ~ ~~ ~ ~~ ~ ~~ ~ ~~ ~ ~~ ~ ~~ ~ ~~ ~ ~~ #\n",
    "#= Separa el experimento en σ segmentos, convierte a voltaje, obtiene una matriz filtrada \n",
    "de MUA, calcula variables para caracterizar cada segmento =#\n",
    "\n",
    "# ~~ ~~ ~ ~~ ~ ~~ ~ ~~ ~ ~~ ~ ~~ ~ ~~ ~ ~~ constantes ~~ ~ ~~ ~ ~~ ~ ~~ ~ ~~ ~ ~~ ~ ~~ ~ ~~ #\n",
    "limupper = 0.4; # GB, para la segmentaci'on del archivo completo\n",
    "ChPercent = 15; # % porcentaje del canal que se tolera saturado\n",
    "FrPercent = 20; # % porcentaje del frame que se tolera saturado\n",
    "ΔT = 400; # ms  para la variacion temporal\n",
    "window = 5; # ms para la deteccion de eventos\n",
    "bit = 1; # ms deslizamiento de la ventana\n",
    "distance = 0.3; # ms distancia maxima entre eventos para ser descartados\n",
    "cte = 4; # 4 / sqrt( 3 ), for the donoho threshold\n",
    "thr = -60; # μV umbral estatico\n",
    "nM = 18;\n",
    "# ~ ~~ ~ ~~ ~ ~~ ~ ~~ ~ ~~ ~ ~~ ~ ~~ ~ ~~ ~ ~~ ~ ~~ ~ ~~ ~ ~~ ~ ~~ ~ ~~ ~ ~~ ~ ~~ ~ ~~ ~ ~~ #\n",
    "\n",
    "# ~~ ~ ~~ ~ ~~ ~ ~~ ~ ~~ ~ ~~ ~ ~~ ~ ~~ ~~ paquetes ~ ~~ ~ ~~ ~ ~~ ~ ~~ ~ ~~ ~ ~~ ~ ~~ ~ ~~ #\n",
    "using JLD\n",
    "using StatsBase\n",
    "using Plots\n",
    "# ~ ~~ ~ ~~ ~ ~~ ~ ~~ ~ ~~ ~ ~~ ~ ~~ ~ ~~ ~ ~~ ~ ~~ ~ ~~ ~ ~~ ~ ~~ ~ ~~ ~ ~~ ~ ~~ ~ ~~ ~ ~~ #\n",
    "\n",
    "# ~ ~~ ~ ~~ ~ ~~ ~ ~~ ~ ~~ ~ ~~ ~ ~~ ~ ~~ ~ ~~ ~ ~~ ~ ~~ ~ ~~ ~ ~~ ~ ~~ ~ ~~ ~ ~~ ~ ~~ ~ ~~ #\n",
    "PATHFunctions = \"/home/isabel/Dropbox/git-repos/Spinal-Cord-HDMEA\";\n",
    "push!( LOAD_PATH, PATHFunctions );\n",
    "using MeaTools\n",
    "# ~ ~~ ~ ~~ ~ ~~ ~ ~~ ~ ~~ ~ ~~ ~ ~~ ~ ~~ ~ ~~ ~ ~~ ~ ~~ ~ ~~ ~ ~~ ~ ~~ ~ ~~ ~ ~~ ~ ~~ ~ ~~ #\n",
    "\n",
    "# ~ ~~ ~ ~~ ~ ~~ ~ ~~ ~ ~~ ~ ~~ ~ ~~ ~ ~~ ~ ~~ ~ ~~ ~ ~~ ~ ~~ ~ ~~ ~ ~~ ~ ~~ ~ ~~ ~ ~~ ~ ~~ #\n",
    "FILEBRW = \"/run/media/isabel/Data/Hipocampo/Espontanea/01-06-2022/BRWs/Phase_10.brw\";\n",
    "Variables, FILEPATHS = GetVarsHDF5( FILEBRW ); # Variables generales del archivo\n",
    "PATHS = load( FILEPATHS )[ \"PATHS\" ];\n",
    "\n",
    "FILEVARS = joinpath( PATHS[ \"PATHINFO\" ], \"Variables.jld\" );\n",
    "PATHVOLTAGE = joinpath( PATHS[ \"PATHMAIN\" ], \"Voltage\" ); mkpath( PATHVOLTAGE );\n",
    "# ~ ~~ ~ ~~ ~ ~~ ~ ~~ ~ ~~ ~ ~~ ~ ~~ ~ ~~ ~ ~~ ~ ~~ ~ ~~ ~ ~~ ~ ~~ ~ ~~ ~ ~~ ~ ~~ ~ ~~ ~ ~~ #\n",
    "\n",
    "# ~ ~~ ~ ~~ ~ ~~ ~ ~~ ~ ~~ ~ ~~ ~ ~~ ~ ~~ ~ ~~ ~ ~~ ~ ~~ ~ ~~ ~ ~~ ~ ~~ ~ ~~ ~ ~~ ~ ~~ ~ ~~ #\n",
    "σ = ChunkSizeSpace( Variables, limupper ); # N'umero de segmentos a cortar\n",
    "nChs = Variables[ \"nChs\" ];\n",
    "# ~ ~~ ~ ~~ ~ ~~ ~ ~~ ~ ~~ ~ ~~ ~ ~~ ~ ~~ ~ ~~ ~ ~~ ~ ~~ ~ ~~ ~ ~~ ~ ~~ ~ ~~ ~ ~~ ~ ~~ ~ ~~ #\n",
    "\n",
    "# ~ ~~ ~ ~~ ~ ~~ ~ ~~ ~ ~~ ~ ~~ ~ ~~ ~ ~~ ~ ~~ ~ ~~ ~ ~~ ~ ~~ ~ ~~ ~ ~~ ~ ~~ ~ ~~ ~ ~~ ~ ~~ #\n",
    "Wn = Array{ Float64 }( undef, nChs, nM*σ );\n",
    "@time for n = 1:σ\n",
    "    n0s = length( string( σ ) );\n",
    "    BINname = joinpath( PATHVOLTAGE, string( \"BIN\", lpad( n, n0s, \"0\" ), \".jld\" ) );\n",
    "    BINRaw = OneSegment( Variables, n, σ ); # Extrae el bin crudo\n",
    "    BINRaw = Digital2Analogue( Variables, BINRaw ); # conversi'on a voltaje\n",
    "    BINRaw, DiscardedFrames, DiscardedChannels, Frs4Repair, Chs4Repair, \n",
    "        PossibleEarth = DeSatMinMax( Variables, BINRaw, ChPercent, FrPercent );\n",
    "    BINRaw[ PossibleEarth, : ] .= 0;\n",
    "    W, Events, BINFilt = AllMetrics( \n",
    "        Variables, BINRaw, ΔT, window, bit, distance, cte, thr );\n",
    "    Wn[ :, collect( n:σ:nM*σ ) ] = W;\n",
    "    save( BINname, \n",
    "            \"data\", Float16.( BINRaw ),\n",
    "            \"filtered\", Float16.( BINFilt ),\n",
    "            \"NOFr\", DiscardedFrames,\n",
    "            \"NOChs\", DiscardedChannels,\n",
    "            \"FrsRep\", Frs4Repair,\n",
    "            \"ChsRep\", Chs4Repair,\n",
    "            \"Discarted\", PossibleEarth,\n",
    "            \"Pesos\", W,\n",
    "            \"Eventos\", Events\n",
    "            );\n",
    "end\n",
    "# ~ ~~ ~ ~~ ~ ~~ ~ ~~ ~ ~~ ~ ~~ ~ ~~ ~ ~~ ~ ~~ ~ ~~ ~ ~~ ~ ~~ ~ ~~ ~ ~~ ~ ~~ ~ ~~ ~ ~~ ~ ~~ #\n",
    "\n",
    "# ~ ~~ ~ ~~ ~ ~~ ~ ~~ ~ ~~ ~ ~~ ~ ~~ ~ ~~ ~ ~~ ~ ~~ ~ ~~ ~ ~~ ~ ~~ ~ ~~ ~ ~~ ~ ~~ ~ ~~ ~ ~~ #\n",
    "PATHFIGURES = joinpath( PATHS[ \"PATHMAIN\" ], \"Figures\" ); \n",
    "PATHWFIGS = joinpath( PATHFIGURES, \"WFIGS\" ); mkpath( PATHWFIGS );\n",
    "PATHFIGSG = joinpath( PATHFIGURES, \"General\" ); mkpath( PATHFIGSG ); \n",
    "FILEWs = joinpath( PATHS[ \"PATHINFO\" ], \"AllWs.jld\" );\n",
    "GeneralPlots = Array{ Plots.Plot{ Plots.GRBackend } }( undef, nM );\n",
    "W0NTotal = Array{ Float64 }( undef, nChs, nM );\n",
    "# ~ ~~ ~ ~~ ~ ~~ ~ ~~ ~ ~~ ~ ~~ ~ ~~ ~ ~~ ~ ~~ ~ ~~ ~ ~~ ~ ~~ ~ ~~ ~ ~~ ~ ~~ ~ ~~ ~ ~~ ~ ~~ #"
   ]
  },
  {
   "cell_type": "code",
   "execution_count": null,
   "id": "f794c783",
   "metadata": {},
   "outputs": [],
   "source": [
    "# ~ ~~ ~ ~~ ~ ~~ ~ ~~ ~ ~~ ~ ~~ ~ ~~ ~ ~~ ~ ~~ ~ ~~ ~ ~~ ~ ~~ ~ ~~ ~ ~~ ~ ~~ ~ ~~ ~ ~~ ~ ~~ #\n",
    "# manualmente ajustar el parametro mid\n",
    "n = 1;\n",
    "mid = 0.91; # <---------------------------------------------------------------------------- #\n",
    "P, W0N = WGeneral( Wn, n, σ, mid ); GeneralPlots[ n ] = P; W0NTotal[ :, n ] = W0N;\n",
    "# ~ ~~ ~ ~~ ~ ~~ ~ ~~ ~ ~~ ~ ~~ ~ ~~ ~ ~~ ~ ~~ ~ ~~ ~ ~~ ~ ~~ ~ ~~ ~ ~~ ~ ~~ ~ ~~ ~ ~~ ~ ~~ #"
   ]
  },
  {
   "cell_type": "code",
   "execution_count": 169,
   "id": "e9453e88",
   "metadata": {},
   "outputs": [],
   "source": [
    "# ~ ~~ ~ ~~ ~ ~~ ~ ~~ ~ ~~ ~ ~~ ~ ~~ ~ ~~ ~ ~~ ~ ~~ ~ ~~ ~ ~~ ~ ~~ ~ ~~ ~ ~~ ~ ~~ ~ ~~ ~ ~~ #\n",
    "save( FILEWs, \"Wn\", Wn, \"W0NTotal\", W0NTotal );\n",
    "# ~ ~~ ~ ~~ ~ ~~ ~ ~~ ~ ~~ ~ ~~ ~ ~~ ~ ~~ ~ ~~ ~ ~~ ~ ~~ ~ ~~ ~ ~~ ~ ~~ ~ ~~ ~ ~~ ~ ~~ ~ ~~ #\n",
    "\n",
    "# ~ ~~ ~ ~~ ~ ~~ ~ ~~ ~ ~~ ~ ~~ ~ ~~ ~ ~~ ~ ~~ ~ ~~ ~ ~~ ~ ~~ ~ ~~ ~ ~~ ~ ~~ ~ ~~ ~ ~~ ~ ~~ #\n",
    "PF = plot( GeneralPlots..., layout = ( 6, 3 ), cbar = :none, wsize = ( 800, 1200 ) );\n",
    "savefig( PF, joinpath( PATHFIGSG, \"AllWs.png\" ) ); \n",
    "savefig( PF, joinpath( PATHFIGSG, \"AllWs.svg\" ) );\n",
    "# ~ ~~ ~ ~~ ~ ~~ ~ ~~ ~ ~~ ~ ~~ ~ ~~ ~ ~~ ~ ~~ ~ ~~ ~ ~~ ~ ~~ ~ ~~ ~ ~~ ~ ~~ ~ ~~ ~ ~~ ~ ~~ #"
   ]
  },
  {
   "cell_type": "code",
   "execution_count": null,
   "id": "dcee5e9f",
   "metadata": {},
   "outputs": [],
   "source": [
    "# ~ ~~ ~ ~~ ~ ~~ ~ ~~ ~ ~~ ~ ~~ ~ ~~ ~ ~~ ~ ~~ ~ ~~ ~ ~~ ~ ~~ ~ ~~ ~ ~~ ~ ~~ ~ ~~ ~ ~~ ~ ~~ #\n",
    "save( joinpath( PATHS[ \"PATHINFO\" ], \"GeneralPlots.jld\" ), \"GeneralPlots\", GeneralPlots ); \n",
    "# ~ ~~ ~ ~~ ~ ~~ ~ ~~ ~ ~~ ~ ~~ ~ ~~ ~ ~~ ~ ~~ ~ ~~ ~ ~~ ~ ~~ ~ ~~ ~ ~~ ~ ~~ ~ ~~ ~ ~~ ~ ~~ #"
   ]
  }
 ],
 "metadata": {
  "kernelspec": {
   "display_name": "Julia 1.7.2",
   "language": "julia",
   "name": "julia-1.7"
  },
  "language_info": {
   "file_extension": ".jl",
   "mimetype": "application/julia",
   "name": "julia",
   "version": "1.7.2"
  }
 },
 "nbformat": 4,
 "nbformat_minor": 5
}
