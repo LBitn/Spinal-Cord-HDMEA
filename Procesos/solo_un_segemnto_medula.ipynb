{
 "cells": [
  {
   "cell_type": "code",
   "execution_count": 1,
   "id": "c21df9ba",
   "metadata": {},
   "outputs": [],
   "source": [
    "# ~~ ~~ ~ ~~ ~ ~~ ~ ~~ ~ ~~ ~ ~~ ~ ~~ ~ ~~ constantes ~~ ~ ~~ ~ ~~ ~ ~~ ~ ~~ ~ ~~ ~ ~~ ~ ~~ #\n",
    "limupper = 0.6; # GB, for whole file segmentation in uInt8\n",
    "limite = 15; # maximum percentage of segment that can be saturated\n",
    "HV = 2500; # upper voltage limit in μV\n",
    "lV = -2500; # lower voltage limit in μV\n",
    "method = 1; # method to repair saturation ( 1, 2 or 3 )\n",
    "ΔT = 400; # ms for the temporary variation\n",
    "window = 5; # ms for event detection\n",
    "bit = 1; # window sliding milliseconds\n",
    "distance = 0.3; # ms maximum distance between events to be discarded\n",
    "thr = -60; # µV static threshold\n",
    "mid = 0.6; # Value for plotting the metrics for ACD\n",
    "# ~ ~~ ~ ~~ ~ ~~ ~ ~~ ~ ~~ ~ ~~ ~ ~~ ~ ~~ ~ ~~ ~ ~~ ~ ~~ ~ ~~ ~ ~~ ~ ~~ ~ ~~ ~ ~~ ~ ~~ ~ ~~ #"
   ]
  },
  {
   "cell_type": "code",
   "execution_count": 2,
   "id": "20987756",
   "metadata": {},
   "outputs": [],
   "source": [
    "# ~~ ~ ~~ ~ ~~ ~ ~~ ~ ~~ ~ ~~ ~ ~~ ~ ~~ ~~ paquetes ~ ~~ ~ ~~ ~ ~~ ~ ~~ ~ ~~ ~ ~~ ~ ~~ ~ ~~ #\n",
    "using JLD\n",
    "using Plots\n",
    "# ~ ~~ ~ ~~ ~ ~~ ~ ~~ ~ ~~ ~ ~~ ~ ~~ ~ ~~ ~ ~~ ~ ~~ ~ ~~ ~ ~~ ~ ~~ ~ ~~ ~ ~~ ~ ~~ ~ ~~ ~ ~~ #"
   ]
  },
  {
   "cell_type": "code",
   "execution_count": 3,
   "id": "3bd89075",
   "metadata": {},
   "outputs": [],
   "source": [
    "# ~ ~~ ~ ~~ ~ ~~ ~ ~~ ~ ~~ ~ ~~ ~ ~~ ~ ~~ ~ ~~ ~ ~~ ~ ~~ ~ ~~ ~ ~~ ~ ~~ ~ ~~ ~ ~~ ~ ~~ ~ ~~ #\n",
    "PATHBRWS = \"/run/media/LBitn/Data/Medula/28-02-2022/BRWs\";\n",
    "# ~ ~~ ~ ~~ ~ ~~ ~ ~~ ~ ~~ ~ ~~ ~ ~~ ~ ~~ ~ ~~ ~ ~~ ~ ~~ ~ ~~ ~ ~~ ~ ~~ ~ ~~ ~ ~~ ~ ~~ ~ ~~ #"
   ]
  },
  {
   "cell_type": "code",
   "execution_count": 4,
   "id": "6754a598",
   "metadata": {},
   "outputs": [],
   "source": [
    "# ~ ~~ ~ ~~ ~ ~~ ~ ~~ ~ ~~ ~ ~~ ~ ~~ ~ ~~ ~ ~~ ~ ~~ ~ ~~ ~ ~~ ~ ~~ ~ ~~ ~ ~~ ~ ~~ ~ ~~ ~ ~~ #\n",
    "PATHFunctions = \n",
    "    \"/home/LBitn/Dropbox/git-repos/Hippocampus-HDMEA/RomeroI-notebooks/ZapfeModifications\";\n",
    "push!( LOAD_PATH, PATHFunctions );\n",
    "using MeaTools\n",
    "# ~ ~~ ~ ~~ ~ ~~ ~ ~~ ~ ~~ ~ ~~ ~ ~~ ~ ~~ ~ ~~ ~ ~~ ~ ~~ ~ ~~ ~ ~~ ~ ~~ ~ ~~ ~ ~~ ~ ~~ ~ ~~ #"
   ]
  },
  {
   "cell_type": "code",
   "execution_count": 6,
   "id": "1165207a",
   "metadata": {},
   "outputs": [],
   "source": [
    "# ~ ~~ ~ ~~ ~ ~~ ~ ~~ ~ ~~ ~ ~~ ~ ~~ ~ ~~ ~ ~~ ~ ~~ ~ ~~ ~ ~~ ~ ~~ ~ ~~ ~ ~~ ~ ~~ ~ ~~ ~ ~~ #\n",
    "FILESBRW = SearchDir( PATHBRWS, \".brw\" ); \n",
    "# ~ ~~ ~ ~~ ~ ~~ ~ ~~ ~ ~~ ~ ~~ ~ ~~ ~ ~~ ~ ~~ ~ ~~ ~ ~~ ~ ~~ ~ ~~ ~ ~~ ~ ~~ ~ ~~ ~ ~~ ~ ~~ #"
   ]
  },
  {
   "cell_type": "code",
   "execution_count": 9,
   "id": "55a35983",
   "metadata": {},
   "outputs": [
    {
     "name": "stdout",
     "output_type": "stream",
     "text": [
      "You are now working on the new main path: /run/media/LBitn/Data/Medula/28-02-2022/Phase_02\n",
      "With the file: \n",
      "Phase_02.brw : BRW-File Level3 - 3Brain RaW data file for high resolution MEA platform, HDF5-format - Created with BrainWave v.4.5.8089.17174 on date Monday, February 28, 2022 HDF5 file size: 24.533904634416103 GB\n",
      "45 segments of 0.545 GB and 4.0 seconds each\n",
      "92 channels repaired with the method: \n",
      "Random values taken from the same channel\n",
      "25 discarted channels.\n",
      "S45 Done\n",
      "You are now working on the new main path: /run/media/LBitn/Data/Medula/28-02-2022/Phase_06\n",
      "With the file: \n",
      "Phase_06.brw : BRW-File Level3 - 3Brain RaW data file for high resolution MEA platform, HDF5-format - Created with BrainWave v.4.5.8089.17174 on date Monday, February 28, 2022 HDF5 file size: 24.533904641866684 GB\n",
      "45 segments of 0.545 GB and 4.0 seconds each\n",
      "19 channels repaired with the method: \n",
      "Random values taken from the same channel\n",
      "3 discarted channels.\n",
      "S45 Done\n",
      "You are now working on the new main path: /run/media/LBitn/Data/Medula/28-02-2022/Phase_08\n",
      "With the file: \n",
      "Phase_08.brw : BRW-File Level3 - 3Brain RaW data file for high resolution MEA platform, HDF5-format - Created with BrainWave v.4.5.8089.17174 on date Monday, February 28, 2022 HDF5 file size: 24.533904667943716 GB\n",
      "45 segments of 0.545 GB and 4.0 seconds each\n",
      "12 channels repaired with the method: \n",
      "Random values taken from the same channel\n",
      "12 discarted channels.\n",
      "S45 Done\n",
      "2490.035529 seconds (19.09 G allocations: 1.206 TiB, 4.52% gc time)\n"
     ]
    }
   ],
   "source": [
    "# ~ ~~ ~ ~~ ~ ~~ ~ ~~ ~ ~~ ~ ~~ ~ ~~ ~ ~~ ~ ~~ ~ ~~ ~ ~~ ~ ~~ ~ ~~ ~ ~~ ~ ~~ ~ ~~ ~ ~~ ~ ~~ #\n",
    "@time for F = 2:4\n",
    "    FILEBRW = FILESBRW[ F ];\n",
    "    Variables, FILEPATHS, FILEVARS = GetVarsHDF5( FILEBRW );\n",
    "    PATHS = load( FILEPATHS )[ \"PATHS\" ];\n",
    "    PATHMAIN = PATHS[ \"PATHMAIN\" ];\n",
    "    PATHRAW = joinpath( PATHMAIN, \"Segments\" ); mkpath( PATHRAW );\n",
    "    PATHMAIN = PATHS[ \"PATHMAIN\" ];\n",
    "    PATHINFO = PATHS[ \"PATHINFO\" ];\n",
    "    PATHFIGURES = joinpath( PATHMAIN, \"Figures\" ); mkpath( PATHFIGURES );\n",
    "    PATHFIGSGENERAL = joinpath( PATHFIGURES, \"General\" ); mkpath( PATHFIGSGENERAL );\n",
    "    PATHVOLT = joinpath( PATHMAIN, \"Voltage\" ); mkpath( PATHVOLT );\n",
    "    PATHFILTERS = joinpath( PATHMAIN, \"Filters\" ); mkpath( PATHFILTERS );\n",
    "    parameters = Dict(\n",
    "                \"window\"    => Ms2Frs( window, Variables ),\n",
    "                \"bit\"       => Ms2Frs( bit, Variables ),\n",
    "                \"distance\"  => Ms2Frs( distance, Variables ),\n",
    "                \"ΔT\"        => Ms2Frs( ΔT, Variables );\n",
    "            );\n",
    "    σ = ChunkSizeSpace( Variables, limupper ); # Number of segments to cut\n",
    "    n0s = length( string( σ ) );\n",
    "    n = σ;\n",
    "    BIN = OneSegment( Variables, n, σ );\n",
    "    BINNAME = string( \"S\", lpad( n, n0s, \"0\" ) );\n",
    "    BINRAW = Digital2Analogue( Variables, BIN );\n",
    "    BINRAW, _, _, _ = FixSaturation( \n",
    "        BINRAW, limite, HV, lV, method );\n",
    "    save( joinpath( PATHVOLT, string( BINNAME, \".jld\" ) ), \"RAW\", Float16.( BINRAW ) );\n",
    "    S = PFT_mt( Variables, BINRAW );\n",
    "    Ws, AE, BINMUA, BINLFP, metrics = AllWs( Variables, BINRAW, parameters, thr );\n",
    "    save( joinpath( \n",
    "        PATHFILTERS, string( BINNAME, \".jld\") ), \"LFP\", BINLFP, \"MUA\", BINMUA );\n",
    "    BINMUA = [ ]; BINLFP = [ ];\n",
    "    W0NTotal, PF = W0Plots( Ws, BINRAW, mid, metrics );\n",
    "    savefig( PF, joinpath( PATHFIGSGENERAL, string( BINNAME, \"W0NPlots.png\" ) ) );\n",
    "    savefig( PF, joinpath( PATHFIGSGENERAL, string( BINNAME, \"W0NPlots.svg\" ) ) );\n",
    "    W = Dict(\n",
    "        \"DirectWeights\"  => Ws,\n",
    "        \"DetectedEvents\" => AE,\n",
    "        \"labels\"         => metrics,\n",
    "        \"LogWeights\"     => W0NTotal\n",
    "    );\n",
    "    save( joinpath( \n",
    "        PATHINFO, string( BINNAME, \"_Analitics.jld\" ) ), \"Spectrum\", S, \"Weights\", W );\n",
    "    S = [ ]; Ws = [ ]; AE = [ ]; metrics = [ ]; W0NTotal = [ ]; W = [ ];\n",
    "    println( BINNAME, \" Done\" );\n",
    "end\n",
    "# ~ ~~ ~ ~~ ~ ~~ ~ ~~ ~ ~~ ~ ~~ ~ ~~ ~ ~~ ~ ~~ ~ ~~ ~ ~~ ~ ~~ ~ ~~ ~ ~~ ~ ~~ ~ ~~ ~ ~~ ~ ~~ #"
   ]
  },
  {
   "cell_type": "code",
   "execution_count": 11,
   "id": "8b27c061",
   "metadata": {},
   "outputs": [],
   "source": [
    "Phase_01 = load( \n",
    "    \"/run/media/LBitn/Data/Medula/28-02-2022/Phase_01/Info/S45_Analitics.jld\" );\n",
    "Phase_02 = load( \n",
    "    \"/run/media/LBitn/Data/Medula/28-02-2022/Phase_02/Info/S45_Analitics.jld\" );\n",
    "Phase_06 = load( \n",
    "    \"/run/media/LBitn/Data/Medula/28-02-2022/Phase_06/Info/S45_Analitics.jld\" );\n",
    "Phase_08 = load( \n",
    "    \"/run/media/LBitn/Data/Medula/28-02-2022/Phase_08/Info/S45_Analitics.jld\" );"
   ]
  },
  {
   "cell_type": "code",
   "execution_count": 16,
   "id": "a52cc25a",
   "metadata": {},
   "outputs": [],
   "source": [
    "aux = Phase_01[\"Weights\"][\"DetectedEvents\"][1];"
   ]
  },
  {
   "cell_type": "code",
   "execution_count": 21,
   "id": "cebbfed3",
   "metadata": {},
   "outputs": [],
   "source": [
    "using StatsBase\n",
    "C = countmap( vcat( aux... ) );"
   ]
  },
  {
   "cell_type": "code",
   "execution_count": 22,
   "id": "b7e14fd1",
   "metadata": {},
   "outputs": [],
   "source": [
    "K = collect( keys( C ) );\n",
    "V = collect( values( C ) );"
   ]
  },
  {
   "cell_type": "code",
   "execution_count": 30,
   "id": "75201f53",
   "metadata": {},
   "outputs": [],
   "source": [
    "testing = K[ findall( V .> 1 ) ];"
   ]
  },
  {
   "cell_type": "code",
   "execution_count": 36,
   "id": "6ce276df",
   "metadata": {},
   "outputs": [],
   "source": [
    "ch_r = [ ]\n",
    "frm_r = [ ]\n",
    "\n",
    "for i in 1:length( aux )\n",
    "    for j in 1:length( testing )\n",
    "        x = findall( aux[ i ] .== testing[ j ] )\n",
    "        if !isempty( x )\n",
    "            push!( ok, [ i, testing[ j ], x ] )\n",
    "        end\n",
    "    end\n",
    "end"
   ]
  },
  {
   "cell_type": "code",
   "execution_count": 39,
   "id": "022bd9a2",
   "metadata": {},
   "outputs": [
    {
     "data": {
      "text/plain": [
       "205277-element Vector{Any}:\n",
       " Any[2, 63424, [54]]\n",
       " Any[2, 17830, [28]]\n",
       " Any[2, 16049, [24]]\n",
       " Any[2, 22133, [39]]\n",
       " Any[2, 22100, [38]]\n",
       " Any[2, 3402, [4]]\n",
       " Any[2, 17809, [27]]\n",
       " Any[2, 66852, [58]]\n",
       " Any[2, 59978, [44]]\n",
       " Any[2, 13099, [9]]\n",
       " Any[2, 13073, [8]]\n",
       " Any[2, 13684, [16]]\n",
       " Any[2, 16073, [25]]\n",
       " ⋮\n",
       " Any[4096, 24976, [47]]\n",
       " Any[4096, 67989, [116]]\n",
       " Any[4096, 13680, [29]]\n",
       " Any[4096, 13113, [26]]\n",
       " Any[4096, 10785, [8]]\n",
       " Any[4096, 16035, [33]]\n",
       " Any[4096, 46189, [74]]\n",
       " Any[4096, 39348, [67]]\n",
       " Any[4096, 67980, [115]]\n",
       " Any[4096, 24949, [45]]\n",
       " Any[4096, 53588, [77]]\n",
       " Any[4096, 32352, [61]]"
      ]
     },
     "execution_count": 39,
     "metadata": {},
     "output_type": "execute_result"
    }
   ],
   "source": []
  },
  {
   "cell_type": "code",
   "execution_count": null,
   "id": "6ffa5497",
   "metadata": {},
   "outputs": [],
   "source": []
  }
 ],
 "metadata": {
  "kernelspec": {
   "display_name": "Julia 1.8.2",
   "language": "julia",
   "name": "julia-1.8"
  },
  "language_info": {
   "file_extension": ".jl",
   "mimetype": "application/julia",
   "name": "julia",
   "version": "1.8.2"
  }
 },
 "nbformat": 4,
 "nbformat_minor": 5
}
