{
 "cells": [
  {
   "cell_type": "code",
   "execution_count": null,
   "id": "99c9764e",
   "metadata": {},
   "outputs": [],
   "source": [
    "# ----------------------------------------------------------------------------------------- #\n",
    "# Intro de siempre\n",
    "\n",
    "PATHFunciones = \"/home/LBitn/Dropbox/git-repos/Spinal-Cord-HDMEA\";\n",
    "PATHBRWs = \"/run/media/LBitn/Data/Medula/28-02-2022/BRWs\";\n",
    "\n",
    "push!( LOAD_PATH, PATHFunciones );\n",
    "using JuliaTools\n",
    "\n",
    "# ----------------------------------------------------------------------------------------- #\n",
    "\n",
    "## Step 1: Cut chunks or segments from a BRW file\n",
    "\n",
    "# ----------------------------------------------------------------------------------------- #\n",
    "\n",
    "using JLD\n",
    "FILESBRW = searchdir( PATHBRWs, \"brw\" );\n",
    "@time for i = 2:length( FILESBRW );\n",
    "    FILEBRW = FILESBRW[ i ];\n",
    "    Variables, FILEPATHS = VariablesBRW( FILEBRW );\n",
    "    PATHS = load( FILEPATHS )[ \"PATHS\" ];\n",
    "    PATHMain = PATHS[ \"PATHMain\" ];\n",
    "    PATHInfo = PATHS[ \"PATHInfo\" ];\n",
    "    PATHSegmentos = joinpath( PATHMain, \"Segmentos\" );    \n",
    "    Get_chunks( Variables, PATHSegmentos );\n",
    "    println( basename( FILEBRW ), \" is done.\" );\n",
    "    \n",
    "end\n",
    "# ----------------------------------------------------------------------------------------- #"
   ]
  }
 ],
 "metadata": {
  "kernelspec": {
   "display_name": "Julia 1.7.2",
   "language": "julia",
   "name": "julia-1.7"
  },
  "language_info": {
   "file_extension": ".jl",
   "mimetype": "application/julia",
   "name": "julia",
   "version": "1.7.2"
  }
 },
 "nbformat": 4,
 "nbformat_minor": 5
}
