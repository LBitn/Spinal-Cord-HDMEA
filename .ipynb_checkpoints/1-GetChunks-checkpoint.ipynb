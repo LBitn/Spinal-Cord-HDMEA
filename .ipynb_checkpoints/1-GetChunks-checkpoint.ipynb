{
 "cells": [
  {
   "cell_type": "code",
   "execution_count": 7,
   "id": "99c9764e",
   "metadata": {},
   "outputs": [],
   "source": [
    "# -------------------------------------------------------------------------------------------------------- #\n",
    "# Intro de siempre\n",
    "\n",
    "global PATHFunciones = \"/home/isabel/Dropbox/git-repos/Spinal-Cord-HDMEA\";\n",
    "push!( LOAD_PATH, PATHFunciones );\n",
    "using JuliaTools\n",
    "\n",
    "# -------------------------------------------------------------------------------------------------------- #"
   ]
  },
  {
   "cell_type": "markdown",
   "id": "94ee2d2b",
   "metadata": {},
   "source": [
    "## Step A: Cut chunks or segments from a BRW file"
   ]
  },
  {
   "cell_type": "code",
   "execution_count": 10,
   "id": "6a40ddde",
   "metadata": {},
   "outputs": [
    {
     "name": "stdout",
     "output_type": "stream",
     "text": [
      "You are now working on the new main path: /run/media/isabel/Data/Medula/28-02-2022/Phase_02-28-Feb-2022\n",
      "with the file: Phase_02.brw\n",
      "BRW-File Level3 - 3Brain RaW data file for high resolution MEA platform, HDF5-format - Created with BrainWave v.4.5.8089.17174 on date Monday, February 28, 2022\n",
      "HDF5 file size: 25.7256635859375 GB\n",
      " The are 82 segments, of 2.1951216989269997 seconds each.\n",
      "Phase_02.brw is done.\n",
      "You are now working on the new main path: /run/media/isabel/Data/Medula/28-02-2022/Phase_06-28-Feb-2022\n",
      "with the file: Phase_06.brw\n",
      "BRW-File Level3 - 3Brain RaW data file for high resolution MEA platform, HDF5-format - Created with BrainWave v.4.5.8089.17174 on date Monday, February 28, 2022\n",
      "HDF5 file size: 25.72566359375 GB\n",
      " The are 82 segments, of 2.1951216989269997 seconds each.\n",
      "Phase_06.brw is done.\n",
      "You are now working on the new main path: /run/media/isabel/Data/Medula/28-02-2022/Phase_08-28-Feb-2022\n",
      "with the file: Phase_08.brw\n",
      "BRW-File Level3 - 3Brain RaW data file for high resolution MEA platform, HDF5-format - Created with BrainWave v.4.5.8089.17174 on date Monday, February 28, 2022\n",
      "HDF5 file size: 25.72566362109375 GB\n",
      " The are 82 segments, of 2.1951216989269997 seconds each.\n",
      "Phase_08.brw is done.\n",
      "1314.978076 seconds (289.27 M allocations: 155.677 GiB, 0.68% gc time)\n"
     ]
    }
   ],
   "source": [
    "# Nota: corregir el PATHFunciones porque el SavePaths no jala\n",
    "# -------------------------------------------------------------------------------------------------------- #\n",
    "\n",
    "using JLD\n",
    "\n",
    "PATHBRWs = \"/run/media/isabel/Data/Medula/28-02-2022/BRWs\";\n",
    "FILESBRW = searchdir( PATHBRWs, \"brw\" );\n",
    "\n",
    "@time for i = 2:length( FILESBRW );\n",
    "\n",
    "    FILEBRW = FILESBRW[ i ];\n",
    "    Variables, FILEPATHS = VariablesBRW( FILEBRW );\n",
    "    \n",
    "    PATHS = load( FILEPATHS )[ \"PATHS\" ];\n",
    "    PATHMain = PATHS[ \"PATHMain\" ];\n",
    "    PATHInfo = PATHS[ \"PATHInfo\" ];\n",
    "    \n",
    "    PATHSegmentos = joinpath( PATHMain, \"Segmentos\" );\n",
    "    \n",
    "    Get_chunks( Variables, PATHSegmentos );\n",
    "    \n",
    "    #SavePaths( FILEPATHS );\n",
    "    println( basename( FILEBRW ), \" is done.\" );\n",
    "    \n",
    "end\n",
    "# -------------------------------------------------------------------------------------------------------- #"
   ]
  },
  {
   "cell_type": "code",
   "execution_count": null,
   "id": "49d51b8f",
   "metadata": {},
   "outputs": [],
   "source": []
  }
 ],
 "metadata": {
  "kernelspec": {
   "display_name": "Julia 1.7.2",
   "language": "julia",
   "name": "julia-1.7"
  },
  "language_info": {
   "file_extension": ".jl",
   "mimetype": "application/julia",
   "name": "julia",
   "version": "1.7.2"
  }
 },
 "nbformat": 4,
 "nbformat_minor": 5
}
