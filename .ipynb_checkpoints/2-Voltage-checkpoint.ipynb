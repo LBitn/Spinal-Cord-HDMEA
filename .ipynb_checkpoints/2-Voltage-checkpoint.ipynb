{
 "cells": [
  {
   "cell_type": "code",
   "execution_count": 6,
   "id": "cf122f6e",
   "metadata": {},
   "outputs": [],
   "source": [
    "# -------------------------------------------------------------------------------------------------------- #\n",
    "# Intro de siempre\n",
    "\n",
    "PATHFunciones = \"/home/LBitn/Dropbox/git-repos/Spinal-Cord-HDMEA\";\n",
    "PATHBRWs = \"/run/media/LBitn/Data/Medula/28-02-2022/BRWs\";\n",
    "\n",
    "push!( LOAD_PATH, PATHFunciones );\n",
    "using JuliaTools\n",
    "\n",
    "# -------------------------------------------------------------------------------------------------------- #"
   ]
  },
  {
   "cell_type": "markdown",
   "id": "1c9bf556",
   "metadata": {},
   "source": [
    "## Step 2: Convertion to Voltage WITHOUT removing saturations"
   ]
  },
  {
   "cell_type": "code",
   "execution_count": 7,
   "id": "cb7c4cc4",
   "metadata": {},
   "outputs": [
    {
     "name": "stdout",
     "output_type": "stream",
     "text": [
      "976.204004 seconds (52.66 G allocations: 1.126 TiB, 9.30% gc time, 0.04% compilation time)\n",
      "Phase_01-28-Feb-2022 done\n",
      "886.501473 seconds (52.66 G allocations: 1.125 TiB, 9.79% gc time)\n",
      "Phase_02-28-Feb-2022 done\n",
      "835.849829 seconds (52.66 G allocations: 1.125 TiB, 10.15% gc time)\n",
      "Phase_06-28-Feb-2022 done\n",
      "893.674715 seconds (52.66 G allocations: 1.125 TiB, 9.49% gc time)\n",
      "Phase_08-28-Feb-2022 done\n",
      "3593.013668 seconds (210.64 G allocations: 4.502 TiB, 9.67% gc time, 0.03% compilation time)\n",
      "/run/media/isabel/Data/Medula/28-02-2022/BRWs done\n"
     ]
    }
   ],
   "source": [
    "# -------------------------------------------------------------------------------------------------------- #\n",
    "\n",
    "using JLD\n",
    "\n",
    "Temp = readdir( dirname( PATHBRWs ), join = true );\n",
    "WorkDirs = Temp[ readdir( dirname( PATHBRWs ) ) .!= basename( PATHBRWs ) ];\n",
    "\n",
    "@time for i = 1:length( WorkDirs );\n",
    "    PATHS = load( joinpath( WorkDirs[ i ], \"Info\", \"Paths.jld\" ) )[ \"PATHS\" ];\n",
    "\n",
    "    # Arreglando la funcion savepaths del paso anterior que no funciona....\n",
    "    PATHS[ \"PATHSegmentos\" ] = joinpath( WorkDirs[ i ], \"Segmentos\" );\n",
    "    PATHS[ \"PATHFunciones\" ] = PATHFunciones;\n",
    "    PATHS[ \"Voltage\" ] = joinpath( WorkDirs[ i ], \"Voltage\" ); \n",
    "    mkpath( PATHS[ \"Voltage\" ] ); cd( PATHS[ \"Voltage\" ] );\n",
    "\n",
    "    Variables = load( joinpath( WorkDirs[ i ], \"Info\", \"variablesBRW.jld\" ) )[ \"Variables\" ];\n",
    "    nChs = length( Variables[ \"Layout\" ] );\n",
    "    channels = 1:nChs;\n",
    "\n",
    "    FILESegmentos = searchdir( PATHS[ \"PATHSegmentos\" ], \"jld\" );\n",
    "\n",
    "    @time for j = 1:length( FILESegmentos )\n",
    "\n",
    "        FILESegmento = FILESegmentos[ j ];\n",
    "        FILENoSat = replace( replace( FILESegmento, \"Segmentos\" => \"Voltage\" ), \"BIN\" => \"DIG\" );\n",
    "\n",
    "        BIN = load( FILESegmento )[ \"data\" ];\n",
    "        BIN = Digital2Analogue( Variables, BIN );\n",
    "\n",
    "        save( FILENoSat, \"data\", Float16.( BIN ) );\n",
    "    end\n",
    "    \n",
    "    save( joinpath( WorkDirs[ i ], \"Info\", \"Paths.jld\" ), \"PATHS\", PATHS );\n",
    "    \n",
    "    println( basename( WorkDirs[ i ] ), \" done\" )\n",
    "    \n",
    "end\n",
    "\n",
    "println( PATHBRWs, \" done\" )\n",
    "\n",
    "# -------------------------------------------------------------------------------------------------------- #"
   ]
  },
  {
   "cell_type": "code",
   "execution_count": null,
   "id": "b3ba2ccd",
   "metadata": {},
   "outputs": [],
   "source": []
  }
 ],
 "metadata": {
  "kernelspec": {
   "display_name": "Julia 1.7.2",
   "language": "julia",
   "name": "julia-1.7"
  },
  "language_info": {
   "file_extension": ".jl",
   "mimetype": "application/julia",
   "name": "julia",
   "version": "1.7.2"
  }
 },
 "nbformat": 4,
 "nbformat_minor": 5
}
