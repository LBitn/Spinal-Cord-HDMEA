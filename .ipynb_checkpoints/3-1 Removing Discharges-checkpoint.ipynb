{
 "cells": [
  {
   "cell_type": "code",
   "execution_count": 1,
   "id": "eb109ee1",
   "metadata": {},
   "outputs": [],
   "source": [
    "# -------------------------------------------------------------------------------------------------------- #\n",
    "# Intro de siempre\n",
    "\n",
    "PATHFunciones = \"/home/isabel/Dropbox/git-repos/Spinal-Cord-HDMEA\";\n",
    "PATHBRWs = \"/run/media/isabel/Data/Medula/28-02-2022/BRWs\";\n",
    "\n",
    "push!( LOAD_PATH, PATHFunciones );\n",
    "using JuliaTools\n",
    "\n",
    "# -------------------------------------------------------------------------------------------------------- #"
   ]
  },
  {
   "cell_type": "code",
   "execution_count": null,
   "id": "299ff97d",
   "metadata": {},
   "outputs": [],
   "source": [
    "# -------------------------------------------------------------------------------------------------------- #\n",
    "\n",
    "using JLD\n",
    "\n",
    "local temp = readdir( dirname( PATHBRWs ), join = true );\n",
    "WorkDirs = temp[ readdir( dirname( PATHBRWs ) ) .!= basename( PATHBRWs ) ];\n",
    "\n",
    "\n",
    "p = 0.90;\n",
    "@time for i = 1:length( WorkDirs )\n",
    "    \n",
    "    Variables = load( joinpath( WorkDirs[ i ], \"Info\", \"variablesBRW.jld\" ) )[ \"Variables\" ];\n",
    "    PATHS = load( joinpath( WorkDirs[ i ], \"Info\", \"Paths.jld\" ) )[ \"PATHS\" ];\n",
    "    PATHVoltage = joinpath( WorkDirs[ i ], \"Voltage\" );\n",
    "    FILESVoltage = searchdir( PATHVoltage, \"jld\" ); \n",
    "\n",
    "    nChs = length( Variables[ \"Layout\" ] ); # total number of channels (...4096)\n",
    "\n",
    "    sparsity_matrix = zeros( length( FILESVoltage ), 3 ); # Array n segments rows x 3 columns\n",
    "    variabilidades = zeros( nChs, length( FILESVoltage ) ); # Array 4096 rows x n segments columns\n",
    "    channels = 1:nChs;\n",
    "\n",
    "@time for j = 1:length( FILESVoltage );\n",
    "        \n",
    "        FILEVoltage = FILESVoltage[ j ];\n",
    "        data = Float64.( load( FILEVoltage )[ \"data\" ] ); \n",
    "\n",
    "        V = zeros( Int, nChs ); # preallocation\n",
    "        [ V[ k ] = length( unique( data[ k, : ] ) ) for k in channels ];\n",
    "\n",
    "        xmean, Δx, C1, C2 = MeanΔxCI( V, p ); AboveCI = findall( V .>= C1 ); \n",
    "        grupos, loose = Get_Groups( AboveCI );\n",
    "        sparsity_matrix[ j, : ] = [ \n",
    "            Density( grupos ), length( AboveCI ), Sparsity( length( grupos ), nChs ) ];\n",
    "\n",
    "        # V vector of each segment into an array\n",
    "        variabilidades[ :, j ] = V;\n",
    "        println( \"file: \", lpad( j, 2, \"0\" ), \" done\" );\n",
    "        \n",
    "    end\n",
    "    \n",
    "    local temp = joinpath( WorkDirs[ i ], \"Info\", \"Reparations.jld\" );\n",
    "    save( temp, \"Sparsity\", sparsity_matrix, \"Variability\", variabilidades );\n",
    "    println( \"file: \", lpad( i, 2, \"0\" ), \"/\", length( WorkDirs ), \" done\" );\n",
    "    \n",
    "end\n",
    "# -------------------------------------------------------------------------------------------------------- #"
   ]
  }
 ],
 "metadata": {
  "kernelspec": {
   "display_name": "Julia 1.7.2",
   "language": "julia",
   "name": "julia-1.7"
  },
  "language_info": {
   "file_extension": ".jl",
   "mimetype": "application/julia",
   "name": "julia",
   "version": "1.7.2"
  }
 },
 "nbformat": 4,
 "nbformat_minor": 5
}
