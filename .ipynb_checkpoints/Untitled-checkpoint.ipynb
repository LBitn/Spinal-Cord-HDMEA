{
 "cells": [
  {
   "cell_type": "code",
   "execution_count": null,
   "id": "c9b06390",
   "metadata": {},
   "outputs": [],
   "source": [
    "# ----------------------------------------------------------------------------------------------- #\n",
    "# Intro de siempre\n",
    "\n",
    "PATHFunciones = \"/home/isabel/Dropbox/git-repos/Spinal-Cord-HDMEA\";\n",
    "PATHBRWs = \"/run/media/isabel/Data/Medula/28-02-2022/BRWs\";\n",
    "\n",
    "push!( LOAD_PATH, PATHFunciones );\n",
    "using JuliaTools\n",
    "\n",
    "# ----------------------------------------------------------------------------------------------- #\n",
    "\n",
    "using JLD\n",
    "\n",
    "AUX = readdir( dirname( PATHBRWs ), join = true );\n",
    "WorkDirs = AUX[ readdir( dirname( PATHBRWs ) ) .!= basename( PATHBRWs ) ];\n",
    "\n",
    "# ----------------------------------------------------------------------------------------------- #"
   ]
  },
  {
   "cell_type": "code",
   "execution_count": null,
   "id": "07b48938",
   "metadata": {},
   "outputs": [],
   "source": [
    "# ----------------------------------------------------------------------------------------------- #\n",
    "\n",
    "i = 1\n",
    "Variables = load( joinpath( WorkDirs[ i ], \"Info\", \"variablesBRW.jld\" ) )[ \"Variables\" ];\n",
    "\n",
    "PATHVoltage = joinpath( WorkDirs[ i ], \"Voltage\" );\n",
    "FILESVoltage = searchdir( PATHVoltage, \"jld\" ); \n",
    "FILEReparations = joinpath( WorkDirs[ i ], \"Info\", \"Reparations.jld\" );\n",
    "#PATHRepaired = joinpath( WorkDirs[ i ], \"Repaired\" );\n",
    "\n",
    "Reparations = load( FILEReparations );\n",
    "variability = Reparations[ \"Variability\" ]; sparsity = Reparations[ \"Sparsity\" ];\n",
    "SamplingRate = Variables[ \"SamplingRate\" ];\n",
    "nChs = length( Variables[ \"Layout\" ] ); # total number of channels ( ... 4096 )\n",
    "channels = collect( 1:nChs );\n",
    "\n",
    "# ----------------------------------------------------------------------------------------------- #"
   ]
  },
  {
   "cell_type": "code",
   "execution_count": null,
   "id": "4dfcaf67",
   "metadata": {},
   "outputs": [],
   "source": [
    "# 08, 36, 63 para Phase_02-28-Feb-2022 -> all_detections_spars\n",
    "# Input = sort( [ 73, 72, 45, 18 ] ); # para Phase_01-28-Feb-2022"
   ]
  },
  {
   "cell_type": "code",
   "execution_count": null,
   "id": "4910db2f",
   "metadata": {},
   "outputs": [],
   "source": [
    "using BinningAnalysis\n",
    "using Statistics\n",
    "using Plots\n",
    "using StatsBase"
   ]
  },
  {
   "cell_type": "code",
   "execution_count": null,
   "id": "3efe57c9",
   "metadata": {},
   "outputs": [],
   "source": [
    "all_detections_spars = [ ];\n",
    "for k = 1:size( sparsity, 2 )\n",
    "    W = sparsity[ :, k ]\n",
    "    xmean, Δx = jackknife( identity, W );\n",
    "    aux = findall( W .>= ( xmean + Δx) );\n",
    "    if length( aux ) < 8\n",
    "        push!( all_detections_spars, aux )\n",
    "    end\n",
    "    aux = findall( W .<= ( xmean - Δx) );\n",
    "    if length( aux ) < 8\n",
    "        push!( all_detections_spars, aux )\n",
    "    end\n",
    "end"
   ]
  },
  {
   "cell_type": "code",
   "execution_count": null,
   "id": "ce6c1873",
   "metadata": {},
   "outputs": [],
   "source": [
    "all_detections_var = [ ];\n",
    "σ = 1\n",
    "P = true\n",
    "while P == true & σ < 100\n",
    "    for k = 1:size( variability, 2 )\n",
    "        W = variability[ :, k ]\n",
    "        xmean, Δx = jackknife( identity, W );\n",
    "        aux = findall( W .>= ( xmean + σ*Δx) );\n",
    "        if length( aux ) < 8\n",
    "            push!( all_detections_var, aux )\n",
    "        end\n",
    "        aux = findall( W .<= ( xmean - σ*Δx) );\n",
    "        if length( aux ) < 8\n",
    "            push!( all_detections_var, aux )\n",
    "        end\n",
    "    end\n",
    "    if isempty( all_detections_var )\n",
    "        σ = σ + 1\n",
    "    end\n",
    "end"
   ]
  },
  {
   "cell_type": "code",
   "execution_count": null,
   "id": "9c5d0214",
   "metadata": {},
   "outputs": [],
   "source": [
    "por_canal = [ ]\n",
    "for k = 1:size( variability, 1 )\n",
    "    W = variability[ k, : ]\n",
    "    if length( findall( W .>= mean( W ) + 2*std( W ) ) ) < size( variability, 2 )/2\n",
    "        push!( por_canal, findall( W .>= mean( W ) + 2*std( W ) ) )\n",
    "    elseif length( findall( W .<= mean( W ) - 2*std( W ) ) ) < size( variability, 2 )/2\n",
    "        push!( por_canal, findall( W .<= mean( W ) - 2*std( W ) ) )\n",
    "    else\n",
    "        push!( por_canal, [0] )\n",
    "    end\n",
    "end"
   ]
  },
  {
   "cell_type": "code",
   "execution_count": null,
   "id": "c90ec80f",
   "metadata": {},
   "outputs": [],
   "source": [
    "using StatsBase\n",
    "x = countmap( vcat( por_canal... ) );\n",
    "k = Int.( keys( x ) );\n",
    "v = Int.( values( x ) );"
   ]
  },
  {
   "cell_type": "code",
   "execution_count": null,
   "id": "a3d2f62e",
   "metadata": {},
   "outputs": [],
   "source": [
    "_, xerror = jackknife( identity, v );"
   ]
  },
  {
   "cell_type": "code",
   "execution_count": null,
   "id": "bae5207e",
   "metadata": {},
   "outputs": [],
   "source": [
    "high_activity_segments = sort(k[v .>= ( mean( v ) + 2*std(v) )]);"
   ]
  },
  {
   "cell_type": "code",
   "execution_count": null,
   "id": "c932f512",
   "metadata": {},
   "outputs": [],
   "source": [
    "potential_discharges = sort(k[v .>= ( mean( v ) + std(v) )]);"
   ]
  },
  {
   "cell_type": "code",
   "execution_count": null,
   "id": "2be50db1",
   "metadata": {},
   "outputs": [],
   "source": [
    "x2 = potential_discharges;\n",
    "\n",
    "x1 = TimesPotentialDischarge( variability );\n",
    "\n",
    "x3 = unique(vcat(all_detections_spars...));"
   ]
  },
  {
   "cell_type": "code",
   "execution_count": null,
   "id": "d44a880d",
   "metadata": {
    "scrolled": false
   },
   "outputs": [],
   "source": [
    "histogram( vcat( por_canal... ), xticks = (1:83), wsize= (2000,600))\n",
    "hline!([mean( v ) + 2*std(v)])\n",
    "hline!( [mean( v ) + std(v)])\n",
    "vline!( [x1])\n",
    "vline!( [x2] )\n",
    "vline!( [x3] )"
   ]
  },
  {
   "cell_type": "code",
   "execution_count": null,
   "id": "0ce0a29a",
   "metadata": {},
   "outputs": [],
   "source": [
    "length(findall(xmean + Δx .<= sparsity[:,3])) > 5"
   ]
  },
  {
   "cell_type": "code",
   "execution_count": null,
   "id": "7cd7d4e2",
   "metadata": {},
   "outputs": [],
   "source": [
    "x2"
   ]
  },
  {
   "cell_type": "code",
   "execution_count": null,
   "id": "63012334",
   "metadata": {},
   "outputs": [],
   "source": [
    "# -------------------------------------------------------------------------------------------------------- #\n",
    "# using Statistics\n",
    "# using BinningAnalysis\n",
    "\"\"\"\n",
    "\"\"\"\n",
    "function TimesPotentialDischarge( variability::Matrix{Float64} )\n",
    "    R = copy( variability ); fill!( R, 0 );\n",
    "    WT = zeros( size( variability, 2 ) );\n",
    "    for j = 1:size( variability, 2 );\n",
    "        W = variability[ :, j ];\n",
    "        Todos, t = Thresholding( W );\n",
    "        R[ :, j ] = sum( Todos, dims = 2 );\n",
    "        xmean, xerror = jackknife( identity, R[ :, j ] );\n",
    "        W = R[ :, j ];\n",
    "        aux = union( findall( W .> xmean + std( W ) + xerror ), findall( W .< xmean - std( W ) - xerror ) );\n",
    "        WT[ j ] = length( aux );\n",
    "    end\n",
    "\n",
    "    xmean, xerror = jackknife( identity, WT );\n",
    "    Test04 = union( findall( WT .> xmean + 2*std( WT ) ), findall( WT .< xmean - 2*std( WT )  ) );\n",
    "    return Test04\n",
    "end\n"
   ]
  },
  {
   "cell_type": "code",
   "execution_count": null,
   "id": "8acca97c",
   "metadata": {},
   "outputs": [],
   "source": [
    "# ----------------------------------------------------------------------------------------------- #\n",
    "\n",
    "@time Potential_Discharge = TimesPotentialDischarge( variability );\n",
    "\n",
    "# ----------------------------------------------------------------------------------------------- #"
   ]
  },
  {
   "cell_type": "code",
   "execution_count": null,
   "id": "098a8a42",
   "metadata": {},
   "outputs": [],
   "source": [
    "# ----------------------------------------------------------------------------------------------- #\n",
    "\n",
    "j = 1\n",
    "bin = Potential_Discharge[ j ];\n",
    "V = variability[ :, bin ];\n",
    "@time data = Float64.( load( FILESVoltage[ bin ] )[ \"data\" ] ); \n",
    "@time data, earth, MinVoltSatChannels = SaturacionPositiva( Variables, data );\n",
    "@time data, DiscartedChannels = SaturacionNegativaTemporal( Variables, data );\n",
    "DiscartedChannels = vcat( earth, DiscartedChannels );\n",
    "\n",
    "# ----------------------------------------------------------------------------------------------- #"
   ]
  },
  {
   "cell_type": "code",
   "execution_count": null,
   "id": "df2c252d",
   "metadata": {},
   "outputs": [],
   "source": [
    "@time DataReparado, FinalFrames, FinalChannelsUnique = RepairData( data, Variables, V, DiscartedChannels );"
   ]
  },
  {
   "cell_type": "code",
   "execution_count": null,
   "id": "45983e35",
   "metadata": {},
   "outputs": [],
   "source": [
    "@time datafilt = FiltrarMatriz( DataReparado, Variables );"
   ]
  },
  {
   "cell_type": "code",
   "execution_count": null,
   "id": "da98cf66",
   "metadata": {},
   "outputs": [],
   "source": [
    "ΔT = 500 # ms\n",
    "A, B = ΔV( Variables, DataReparado, ΔT, DiscartedChannels );\n",
    "W = ; # para detectar la rebanada\n",
    "\n",
    "Todos, thrs = Thresholding( log.( B ) );\n",
    "W = sum( Todos[ :, 3000 .> vec( sum( Todos, dims = 1 ) ) .> 1000 ], dims = 2 );\n",
    "FTodos = Zplot( W, \"W\", :ice ); FTodos = title!( \"TodosThrs\" );\n",
    "\n",
    "SliceChannels = findall( vec( W .!= 0 ) );\n",
    "SliceChannelsFill = FillingHolesCrux( SliceChannels );\n",
    "\n",
    "grupos, loose = Get_Groups( SliceChannelsFill );"
   ]
  },
  {
   "cell_type": "code",
   "execution_count": null,
   "id": "f0d0d1b1",
   "metadata": {},
   "outputs": [],
   "source": []
  },
  {
   "cell_type": "code",
   "execution_count": null,
   "id": "c1c9e10e",
   "metadata": {},
   "outputs": [],
   "source": []
  },
  {
   "cell_type": "code",
   "execution_count": null,
   "id": "7f594cdf",
   "metadata": {},
   "outputs": [],
   "source": []
  },
  {
   "cell_type": "code",
   "execution_count": null,
   "id": "7abd643b",
   "metadata": {},
   "outputs": [],
   "source": []
  },
  {
   "cell_type": "code",
   "execution_count": null,
   "id": "7bc5574a",
   "metadata": {},
   "outputs": [],
   "source": []
  },
  {
   "cell_type": "code",
   "execution_count": null,
   "id": "a2bb0440",
   "metadata": {},
   "outputs": [],
   "source": []
  },
  {
   "cell_type": "code",
   "execution_count": null,
   "id": "96eb6aac",
   "metadata": {},
   "outputs": [],
   "source": [
    "VR = zeros( Int, nChs ); # preallocation\n",
    "[ VR[ k ] = length( unique( DataReparado[ k, : ] ) ) for k in channels ];\n",
    "VO = V;"
   ]
  },
  {
   "cell_type": "code",
   "execution_count": null,
   "id": "954487c0",
   "metadata": {},
   "outputs": [],
   "source": [
    "cm = :bluesreds\n",
    "FVO = Zplot( VO, \"W\", cm ); FVO = title!( \"Original\"); FVR = Zplot( VR, \"W\", cm ); FVR = title!( \"Reparado\" );\n",
    "FW1 = Zplot( log.( B ), \"W\", cm ); FW1 = title!( \"Rebanda\" );\n",
    "FW2 = Zplot( log.( length.( AllSegmentsNew ) ), \"W\", cm ); FW2 = title!( \"Rebanda2\" );\n",
    "\n",
    "PlotFinal = plot( FVO, FVR, FW1, FW2, layout = ( 2, 2 ), wsize = ( 700, 700 ), cbar = :none )"
   ]
  },
  {
   "cell_type": "code",
   "execution_count": null,
   "id": "985fa1dc",
   "metadata": {},
   "outputs": [],
   "source": [
    "# ----------------------------------------------------------------------------------------------- #\n",
    "# metodo 1. \n",
    "antes = 25; # ms\n",
    "SegmentDuration = 5; # ms\n",
    "σ = 4; # as in σ*thr\n",
    "\n",
    "AllSegmentsNew = [ ];\n",
    "AllThsNew = [ ];\n",
    "binsize = size( datafilt, 2 );\n",
    "SamplingRate = Variables[ \"SamplingRate\" ];\n",
    "\n",
    "k = 1\n",
    "@time while k <= nChs\n",
    "    if isempty( findall( k .== DiscartedChannels ) ) \n",
    "        MUA = datafilt[ k, : ];\n",
    "        STh = findall( MUA .> donoho( MUA )*σ ); ITh = findall( MUA .< -donoho( MUA )*σ );\n",
    "        #AllTh = sort( union( ITh, STh ) );\n",
    "        AllTh = ITh;\n",
    "        if !isempty( AllTh )\n",
    "            temp01 = findall( diff( AllTh ) .> mean( diff( AllTh ) ) ); \n",
    "            temp01 = vcat( temp01, length( AllTh ) );\n",
    "            Temp01 = AllTh[ temp01 ];\n",
    "            temp02 = vcat( 1, temp01[ 1:( end - 1 ) ] .+ 1 );\n",
    "            Temp02 = AllTh[ temp02 ];\n",
    "            SegmentosCompletos = SegmentsComplet( \n",
    "                Temp02, antes, SegmentDuration, SamplingRate, binsize, MUA );\n",
    "            if !isempty( SegmentosCompletos )\n",
    "                push!( AllSegmentsNew, SegmentosCompletos )\n",
    "            else\n",
    "                push!( AllSegmentsNew, [ 0 ] )\n",
    "            end\n",
    "            push!( AllThsNew, AllTh )\n",
    "        else\n",
    "            push!( AllSegmentsNew, [ 0 ] )\n",
    "            push!( AllThsNew, [ 0 ] )\n",
    "        end\n",
    "        k = k + 1\n",
    "    else\n",
    "        push!( AllSegmentsNew, [ 0 ] )\n",
    "        push!( AllThsNew, [ 0 ] )\n",
    "        k = k + 1\n",
    "    end\n",
    "end"
   ]
  },
  {
   "cell_type": "code",
   "execution_count": null,
   "id": "374c5b08",
   "metadata": {},
   "outputs": [],
   "source": []
  }
 ],
 "metadata": {
  "kernelspec": {
   "display_name": "Julia 1.7.2",
   "language": "julia",
   "name": "julia-1.7"
  },
  "language_info": {
   "file_extension": ".jl",
   "mimetype": "application/julia",
   "name": "julia",
   "version": "1.7.2"
  }
 },
 "nbformat": 4,
 "nbformat_minor": 5
}
