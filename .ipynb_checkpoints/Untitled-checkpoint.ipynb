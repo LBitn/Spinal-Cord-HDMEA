{
 "cells": [
  {
   "cell_type": "code",
   "execution_count": 1,
   "id": "55964d99",
   "metadata": {},
   "outputs": [],
   "source": [
    "# ~~ ~~ ~ ~~ ~ ~~ ~ ~~ ~ ~~ ~ ~~ ~ ~~ ~ ~~ constantes ~~ ~ ~~ ~ ~~ ~ ~~ ~ ~~ ~ ~~ ~ ~~ ~ ~~ #\n",
    "limupper = 0.6; # GB, for whole file segmentation in uInt8\n",
    "limite = 15; # maximum percentage of segment that can be saturated\n",
    "HV = 2500; # upper voltage limit in μV\n",
    "lV = -2500; # lower voltage limit in μV\n",
    "method = 1; # method to repair saturation ( 1, 2 or 3 )\n",
    "ΔT = 400; # ms for the temporary variation\n",
    "window = 5; # ms for event detection\n",
    "bit = 1; # window sliding milliseconds\n",
    "distance = 0.3; # ms maximum distance between events to be discarded\n",
    "thr = -60; # µV static threshold\n",
    "mid = 0.6; # Value for plotting the metrics for ACD\n",
    "# ~ ~~ ~ ~~ ~ ~~ ~ ~~ ~ ~~ ~ ~~ ~ ~~ ~ ~~ ~ ~~ ~ ~~ ~ ~~ ~ ~~ ~ ~~ ~ ~~ ~ ~~ ~ ~~ ~ ~~ ~ ~~ #"
   ]
  },
  {
   "cell_type": "code",
   "execution_count": 2,
   "id": "03f18bb3",
   "metadata": {},
   "outputs": [],
   "source": [
    "# ~~ ~ ~~ ~ ~~ ~ ~~ ~ ~~ ~ ~~ ~ ~~ ~ ~~ ~~ paquetes ~ ~~ ~ ~~ ~ ~~ ~ ~~ ~ ~~ ~ ~~ ~ ~~ ~ ~~ #\n",
    "using JLD\n",
    "using Suppressor\n",
    "using Plots\n",
    "# ~ ~~ ~ ~~ ~ ~~ ~ ~~ ~ ~~ ~ ~~ ~ ~~ ~ ~~ ~ ~~ ~ ~~ ~ ~~ ~ ~~ ~ ~~ ~ ~~ ~ ~~ ~ ~~ ~ ~~ ~ ~~ #"
   ]
  },
  {
   "cell_type": "code",
   "execution_count": 3,
   "id": "8ee81133",
   "metadata": {},
   "outputs": [],
   "source": [
    "# ~ ~~ ~ ~~ ~ ~~ ~ ~~ ~ ~~ ~ ~~ ~ ~~ ~ ~~ ~ ~~ ~ ~~ ~ ~~ ~ ~~ ~ ~~ ~ ~~ ~ ~~ ~ ~~ ~ ~~ ~ ~~ #\n",
    "@suppress begin\n",
    "    PATHFunctions = \n",
    "        raw\"C:\\Users\\Siby\\Dropbox\\git-repos\\Hippocampus-HDMEA\\RomeroI-notebooks\\ZapfeModifications\";\n",
    "    push!( LOAD_PATH, PATHFunctions );\n",
    "    using MeaTools\n",
    "end\n",
    "# ~ ~~ ~ ~~ ~ ~~ ~ ~~ ~ ~~ ~ ~~ ~ ~~ ~ ~~ ~ ~~ ~ ~~ ~ ~~ ~ ~~ ~ ~~ ~ ~~ ~ ~~ ~ ~~ ~ ~~ ~ ~~ #"
   ]
  },
  {
   "cell_type": "code",
   "execution_count": 4,
   "id": "f3531f27",
   "metadata": {},
   "outputs": [
    {
     "name": "stdout",
     "output_type": "stream",
     "text": [
      "You are now working on the new main path: C:\\Users\\Siby\\Desktop\\Datos\\Medula\\28-02-2022\\Phase_01\n",
      "With the file: \n",
      "Phase_01.brw : BRW-File Level3 - 3Brain RaW data file for high resolution MEA platform, HDF5-format - Created with BrainWave v.4.5.8089.17174 on date Monday, February 28, 2022 HDF5 file size: 24.533904619514942 GB\n"
     ]
    }
   ],
   "source": [
    "# ~ ~~ ~ ~~ ~ ~~ ~ ~~ ~ ~~ ~ ~~ ~ ~~ ~ ~~ ~ ~~ ~ ~~ ~ ~~ ~ ~~ ~ ~~ ~ ~~ ~ ~~ ~ ~~ ~ ~~ ~ ~~ #\n",
    "FILEBRW = raw\"C:\\Users\\Siby\\Desktop\\Datos\\Medula\\28-02-2022\\BRWs\\Phase_01.brw\";\n",
    "Variables, FILEPATHS, FILEVARS = GetVarsHDF5( FILEBRW );\n",
    "PATHS = load( FILEPATHS )[ \"PATHS\" ];\n",
    "PATHMAIN = PATHS[ \"PATHMAIN\" ];\n",
    "PATHRAW = joinpath( PATHMAIN, \"Segments\" ); mkpath( PATHRAW ); \n",
    "# ~ ~~ ~ ~~ ~ ~~ ~ ~~ ~ ~~ ~ ~~ ~ ~~ ~ ~~ ~ ~~ ~ ~~ ~ ~~ ~ ~~ ~ ~~ ~ ~~ ~ ~~ ~ ~~ ~ ~~ ~ ~~ #"
   ]
  },
  {
   "cell_type": "code",
   "execution_count": 5,
   "id": "179ca6f7",
   "metadata": {},
   "outputs": [
    {
     "name": "stdout",
     "output_type": "stream",
     "text": [
      "45 segments of 0.545 GB and 4.0 seconds each\n"
     ]
    }
   ],
   "source": [
    "# ~ ~~ ~ ~~ ~ ~~ ~ ~~ ~ ~~ ~ ~~ ~ ~~ ~ ~~ ~ ~~ ~ ~~ ~ ~~ ~ ~~ ~ ~~ ~ ~~ ~ ~~ ~ ~~ ~ ~~ ~ ~~ #\n",
    "σ = ChunkSizeSpace( Variables, limupper ); # Number of segments to cut\n",
    "n0s = length( string( σ ) );\n",
    "n = 1\n",
    "BIN = OneSegment( Variables, n, σ );\n",
    "BINFILE = joinpath( PATHRAW, string( \"S\", lpad( n, n0s, \"0\" ), \".jld\" ) );\n",
    "save( BINFILE, \"data\", BIN );\n",
    "# ~ ~~ ~ ~~ ~ ~~ ~ ~~ ~ ~~ ~ ~~ ~ ~~ ~ ~~ ~ ~~ ~ ~~ ~ ~~ ~ ~~ ~ ~~ ~ ~~ ~ ~~ ~ ~~ ~ ~~ ~ ~~ #"
   ]
  },
  {
   "cell_type": "code",
   "execution_count": 7,
   "id": "9b1c25a7",
   "metadata": {},
   "outputs": [],
   "source": [
    "BIN = Digital2Analogue( Variables, BIN );"
   ]
  },
  {
   "cell_type": "code",
   "execution_count": 11,
   "id": "5b7fdce3",
   "metadata": {},
   "outputs": [
    {
     "data": {
      "text/plain": [
       "4096×71422 BitMatrix:\n",
       " 0  0  0  0  0  0  0  0  0  0  0  0  0  …  0  0  0  0  0  0  0  0  0  0  0  0\n",
       " 0  0  0  0  0  0  0  0  0  0  0  0  0     0  0  0  0  0  0  0  0  0  0  0  0\n",
       " 0  0  0  0  0  0  0  0  0  0  0  0  0     0  0  0  0  0  0  0  0  0  0  0  0\n",
       " 0  0  0  0  0  0  0  0  0  0  0  0  0     0  0  0  0  0  0  0  0  0  0  0  0\n",
       " 0  0  0  0  0  0  0  0  0  0  0  0  0     0  0  0  0  0  0  0  0  0  0  0  0\n",
       " 0  0  0  0  0  0  0  0  0  0  0  0  0  …  0  0  0  0  0  0  0  0  0  0  0  0\n",
       " 0  0  0  0  0  0  0  0  0  0  0  0  0     0  0  0  0  0  0  0  0  0  0  0  0\n",
       " 0  0  0  0  0  0  0  0  0  0  0  0  0     0  0  0  0  0  0  0  0  0  0  0  0\n",
       " 0  0  0  0  0  0  0  0  0  0  0  0  0     0  0  0  0  0  0  0  0  0  0  0  0\n",
       " 0  0  0  0  0  0  0  0  0  0  0  0  0     0  0  0  0  0  0  0  0  0  0  0  0\n",
       " 0  0  0  0  0  0  0  0  0  0  0  0  0  …  0  0  0  0  0  0  0  0  0  0  0  0\n",
       " 0  0  0  0  0  0  0  0  0  0  0  0  0     0  0  0  0  0  0  0  0  0  0  0  0\n",
       " 0  0  0  0  0  0  0  0  0  0  0  0  0     0  0  0  0  0  0  0  0  0  0  0  0\n",
       " ⋮              ⋮              ⋮        ⋱  ⋮              ⋮              ⋮  \n",
       " 0  0  0  0  0  0  0  0  0  0  0  0  0     0  0  0  0  0  0  0  0  0  0  0  0\n",
       " 0  0  0  0  0  0  0  0  0  0  0  0  0  …  0  0  0  0  0  0  0  0  0  0  0  0\n",
       " 0  0  0  0  0  0  0  0  0  0  0  0  0     0  0  0  0  0  0  0  0  0  0  0  0\n",
       " 0  0  0  0  0  0  0  0  0  0  0  0  0     0  0  0  0  0  0  0  0  0  0  0  0\n",
       " 0  0  0  0  0  0  0  0  0  0  0  0  0     0  0  0  0  0  0  0  0  0  0  0  0\n",
       " 0  0  0  0  0  0  0  0  0  0  0  0  0     0  0  0  0  0  0  0  0  0  0  0  0\n",
       " 0  0  0  0  0  0  0  0  0  0  0  0  0  …  0  0  0  0  0  0  0  0  0  0  0  0\n",
       " 0  0  0  0  0  0  0  0  0  0  0  0  0     0  0  0  0  0  0  0  0  0  0  0  0\n",
       " 0  0  0  0  0  0  0  0  0  0  0  0  0     0  0  0  0  0  0  0  0  0  0  0  0\n",
       " 0  0  0  0  0  0  0  0  0  0  0  0  0     0  0  0  0  0  0  0  0  0  0  0  0\n",
       " 1  1  1  1  1  1  1  1  1  1  1  1  1     0  0  0  0  0  0  0  0  0  0  0  0\n",
       " 0  0  0  0  0  0  0  0  0  0  0  0  0  …  0  0  0  0  0  0  0  0  0  0  0  0"
      ]
     },
     "execution_count": 11,
     "metadata": {},
     "output_type": "execute_result"
    }
   ],
   "source": [
    "limH = 4000\n",
    "limI = -4000"
   ]
  },
  {
   "cell_type": "code",
   "execution_count": 14,
   "id": "ced030a8",
   "metadata": {},
   "outputs": [],
   "source": [
    "aux = findall( BIN .>= limH );"
   ]
  },
  {
   "cell_type": "code",
   "execution_count": 16,
   "id": "eef5c842",
   "metadata": {},
   "outputs": [],
   "source": [
    "auxchannel = getindex.( aux, [ 1 ] );"
   ]
  },
  {
   "cell_type": "code",
   "execution_count": 17,
   "id": "e32405bd",
   "metadata": {},
   "outputs": [],
   "source": [
    "auxframe = getindex.( aux, [ 2 ] );"
   ]
  },
  {
   "cell_type": "code",
   "execution_count": 19,
   "id": "7cc4e981",
   "metadata": {},
   "outputs": [],
   "source": [
    "using StatsBase"
   ]
  },
  {
   "cell_type": "code",
   "execution_count": 22,
   "id": "bd73753a",
   "metadata": {},
   "outputs": [],
   "source": [
    "channel = collect( keys( countmap( auxchannel ) ) );"
   ]
  },
  {
   "cell_type": "code",
   "execution_count": 23,
   "id": "04e2816c",
   "metadata": {},
   "outputs": [],
   "source": [
    "ntimeschannel = collect( values( countmap( auxchannel ) ) );"
   ]
  },
  {
   "cell_type": "code",
   "execution_count": 25,
   "id": "5c3fbe62",
   "metadata": {},
   "outputs": [
    {
     "data": {
      "text/plain": [
       "123-element Vector{Int64}:\n",
       "  7141\n",
       " 71422\n",
       "  7140\n",
       "  7140\n",
       "  1909\n",
       " 49993\n",
       " 28351\n",
       "  1381\n",
       " 14320\n",
       "  7142\n",
       "  7141\n",
       "  1333\n",
       "  7141\n",
       "     ⋮\n",
       "  7141\n",
       "  7142\n",
       "   927\n",
       " 17872\n",
       "  7142\n",
       "  7141\n",
       " 71422\n",
       " 14283\n",
       "  3554\n",
       "  3589\n",
       "  7141\n",
       "  3081"
      ]
     },
     "execution_count": 25,
     "metadata": {},
     "output_type": "execute_result"
    }
   ],
   "source": [
    "ntimeschannel"
   ]
  },
  {
   "cell_type": "code",
   "execution_count": 26,
   "id": "a064b61c",
   "metadata": {},
   "outputs": [
    {
     "data": {
      "text/plain": [
       "(4096, 71422)"
      ]
     },
     "execution_count": 26,
     "metadata": {},
     "output_type": "execute_result"
    }
   ],
   "source": [
    "a, b = size( BIN );"
   ]
  },
  {
   "cell_type": "code",
   "execution_count": null,
   "id": "c6e83b3d",
   "metadata": {},
   "outputs": [],
   "source": [
    "♋ = "
   ]
  }
 ],
 "metadata": {
  "kernelspec": {
   "display_name": "Julia 1.8.2",
   "language": "julia",
   "name": "julia-1.8"
  },
  "language_info": {
   "file_extension": ".jl",
   "mimetype": "application/julia",
   "name": "julia",
   "version": "1.8.2"
  }
 },
 "nbformat": 4,
 "nbformat_minor": 5
}
